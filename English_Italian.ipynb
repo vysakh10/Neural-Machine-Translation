{
 "cells": [
  {
   "cell_type": "code",
   "execution_count": 85,
   "metadata": {
    "colab": {},
    "colab_type": "code",
    "id": "_ZWC7laEhJGg"
   },
   "outputs": [],
   "source": [
    "import pandas as pd\n",
    "import numpy as np\n",
    "import seaborn as sns\n",
    "import matplotlib.pyplot as plt\n",
    "import tensorflow as tf\n",
    "from tensorflow.keras.preprocessing.text import Tokenizer\n",
    "from tensorflow.keras.preprocessing.sequence import pad_sequences\n",
    "from tensorflow.keras.utils import to_categorical\n",
    "from tensorflow.keras.layers import Dense, LSTM, GRU, Embedding, BatchNormalization\n",
    "import re\n",
    "import string\n",
    "import datetime\n",
    "from sklearn.model_selection import train_test_split\n",
    "import warnings\n",
    "warnings.filterwarnings('ignore')\n",
    "from nltk.translate.bleu_score import sentence_bleu"
   ]
  },
  {
   "cell_type": "code",
   "execution_count": 2,
   "metadata": {},
   "outputs": [],
   "source": [
    "f = open('ita.txt', encoding='UTF-8', mode='r')\n",
    "data = f.readlines()\n",
    "f.close()"
   ]
  },
  {
   "cell_type": "code",
   "execution_count": 3,
   "metadata": {},
   "outputs": [
    {
     "data": {
      "text/plain": [
       "['Hi.\\tCiao!\\tCC-BY 2.0 (France) Attribution: tatoeba.org #538123 (CM) & #607364 (Cero)\\n',\n",
       " 'Run!\\tCorri!\\tCC-BY 2.0 (France) Attribution: tatoeba.org #906328 (papabear) & #906347 (Guybrush88)\\n',\n",
       " 'Run!\\tCorra!\\tCC-BY 2.0 (France) Attribution: tatoeba.org #906328 (papabear) & #906348 (Guybrush88)\\n',\n",
       " 'Run!\\tCorrete!\\tCC-BY 2.0 (France) Attribution: tatoeba.org #906328 (papabear) & #906350 (Guybrush88)\\n',\n",
       " 'Who?\\tChi?\\tCC-BY 2.0 (France) Attribution: tatoeba.org #2083030 (CK) & #2126402 (Guybrush88)\\n']"
      ]
     },
     "execution_count": 3,
     "metadata": {},
     "output_type": "execute_result"
    }
   ],
   "source": [
    "data[:5]"
   ]
  },
  {
   "cell_type": "code",
   "execution_count": 4,
   "metadata": {},
   "outputs": [
    {
     "data": {
      "text/plain": [
       "[\"If someone who doesn't know your background says that you sound like a native speaker, it means they probably noticed something about your speaking that made them realize you weren't a native speaker. In other words, you don't really sound like a native speaker.\\tSe qualcuno che non conosce il tuo background dice che sembri un madrelingua, significa che probabilmente ha notato qualcosa sul tuo modo di parlare che ha fatto capire che non eri un madrelingua. In altre parole, non sembri davvero un madrelingua.\\tCC-BY 2.0 (France) Attribution: tatoeba.org #953936 (CK) & #6473513 (Guybrush88)\\n\",\n",
       " \"Doubtless there exists in this world precisely the right woman for any given man to marry and vice versa; but when you consider that a human being has the opportunity of being acquainted with only a few hundred people, and out of the few hundred that there are but a dozen or less whom he knows intimately, and out of the dozen, one or two friends at most, it will easily be seen, when we remember the number of millions who inhabit this world, that probably, since the earth was created, the right man has never yet met the right woman.\\tSenza dubbio esiste in questo mondo proprio la donna giusta per ogni uomo da sposare e viceversa; ma se si considera che un essere umano ha l'opportunità di conoscere solo poche centinaia di persone, e tra le poche centinaia che ce ne sono solo una dozzina o meno che conosce intimamente e tra la dozzina, uno o due amici al massimo, si vedrà facilmente, quando ricorderemo il numero di milioni che abitano questo mondo, che probabilmente, da quando è stata creata la terra, l'uomo giusto non ha mai incontrato la donna giusta.\\tCC-BY 2.0 (France) Attribution: tatoeba.org #7697649 (RM) & #8729769 (Guybrush88)\\n\",\n",
       " \"Doubtless there exists in this world precisely the right woman for any given man to marry and vice versa; but when you consider that a human being has the opportunity of being acquainted with only a few hundred people, and out of the few hundred that there are but a dozen or less whom he knows intimately, and out of the dozen, one or two friends at most, it will easily be seen, when we remember the number of millions who inhabit this world, that probably, since the earth was created, the right man has never yet met the right woman.\\tSenza dubbio esiste in questo mondo proprio la donna giusta per ogni uomo da sposare e viceversa; ma se si considera che un essere umano ha l'opportunità di conoscere solo poche centinaia di persone, e fra le poche centinaia che ce ne sono solo una dozzina o meno che conosce intimamente e fra la dozzina, uno o due amici al massimo, si vedrà facilmente, quando ricorderemo il numero di milioni che abitano questo mondo, che probabilmente, da quando è stata creata la terra, l'uomo giusto non ha mai incontrato la donna giusta.\\tCC-BY 2.0 (France) Attribution: tatoeba.org #7697649 (RM) & #8729772 (Guybrush88)\\n\"]"
      ]
     },
     "execution_count": 4,
     "metadata": {},
     "output_type": "execute_result"
    }
   ],
   "source": [
    "data[-3:]"
   ]
  },
  {
   "cell_type": "markdown",
   "metadata": {},
   "source": [
    "# Getting Structured Data"
   ]
  },
  {
   "cell_type": "code",
   "execution_count": 5,
   "metadata": {},
   "outputs": [],
   "source": [
    "def decontractions(phrase):\n",
    "    '''Performs decontractions in the doc'''\n",
    "\n",
    "    phrase = re.sub(r\"won't\", \"will not\", phrase)\n",
    "    phrase = re.sub(r\"can\\'t\", \"can not\", phrase)\n",
    "    phrase = re.sub(r\"couldn\\'t\", \"could not\", phrase)\n",
    "    phrase = re.sub(r\"shouldn\\'t\", \"should not\", phrase)\n",
    "    phrase = re.sub(r\"wouldn\\'t\", \"would not\", phrase)\n",
    "    # general\n",
    "    phrase = re.sub(r\"n\\'t\", \" not\", phrase)\n",
    "    phrase = re.sub(r\"\\'re\", \" are\", phrase)\n",
    "    phrase = re.sub(r\"\\'s\", \" is\", phrase)\n",
    "    phrase = re.sub(r\"\\'d\", \" would\", phrase)\n",
    "    phrase = re.sub(r\"\\'ll\", \" will\", phrase)\n",
    "    phrase = re.sub(r\"\\'t\", \" not\", phrase)\n",
    "    phrase = re.sub(r\"\\'ve\", \" have\", phrase)\n",
    "    phrase = re.sub(r\"\\'m\", \" am\", phrase)\n",
    "        \n",
    "    return phrase\n",
    "\n",
    "def preprocess(data):\n",
    "    '''Function does simple preprocessing steps such as converting to lowercase, removing punctuations and\n",
    "       separating the english and italian sentences'''\n",
    "    english = []\n",
    "    italian = []\n",
    "    \n",
    "    for line in data:\n",
    "        line = ''.join(e for e in line if e.isdigit() == False)\n",
    "        line = re.sub(' +', ' ', line)\n",
    "        line = line.lower()\n",
    "        line = decontractions(line)\n",
    "        temp1 = []\n",
    "        for char in line:\n",
    "            if char in string.punctuation:\n",
    "                continue\n",
    "            else:\n",
    "                temp1.append(char)\n",
    "        # removing links\n",
    "        if re.findall(r'\\w+:\\/{2}[\\d\\w-]+(\\.[\\d\\w-]+)*(?:(?:\\/[^\\s/]*))*', line):\n",
    "            line = re.sub(r'\\w+:\\/{2}[\\d\\w-]+(\\.[\\d\\w-]+)*(?:(?:\\/[^\\s/]*))*', '', line)\n",
    "        # removing html if any\n",
    "        if re.findall('<.*?>',line):\n",
    "            line = re.sub('<.*?>','',line)\n",
    "        eng_ita = ''.join(e for e in temp1).split('\\t')[:2]\n",
    "        english.append(eng_ita[0])\n",
    "        italian.append(eng_ita[1])\n",
    "    \n",
    "   # english = decontractions(english)\n",
    "   # italian = decontractions(italian)\n",
    "    data = pd.DataFrame()\n",
    "    data['Italian'] = italian\n",
    "    data['English'] = english\n",
    "    \n",
    "    return data"
   ]
  },
  {
   "cell_type": "code",
   "execution_count": 6,
   "metadata": {},
   "outputs": [],
   "source": [
    "dataset = preprocess(data)"
   ]
  },
  {
   "cell_type": "code",
   "execution_count": 7,
   "metadata": {},
   "outputs": [
    {
     "data": {
      "text/html": [
       "<div>\n",
       "<style scoped>\n",
       "    .dataframe tbody tr th:only-of-type {\n",
       "        vertical-align: middle;\n",
       "    }\n",
       "\n",
       "    .dataframe tbody tr th {\n",
       "        vertical-align: top;\n",
       "    }\n",
       "\n",
       "    .dataframe thead th {\n",
       "        text-align: right;\n",
       "    }\n",
       "</style>\n",
       "<table border=\"1\" class=\"dataframe\">\n",
       "  <thead>\n",
       "    <tr style=\"text-align: right;\">\n",
       "      <th></th>\n",
       "      <th>Italian</th>\n",
       "      <th>English</th>\n",
       "    </tr>\n",
       "  </thead>\n",
       "  <tbody>\n",
       "    <tr>\n",
       "      <th>340427</th>\n",
       "      <td>se vuoi sembrare un madrelingua devi essere di...</td>\n",
       "      <td>if you want to sound like a native speaker you...</td>\n",
       "    </tr>\n",
       "    <tr>\n",
       "      <th>340428</th>\n",
       "      <td>se vuoi sembrare un madrelingua devi essere di...</td>\n",
       "      <td>if you want to sound like a native speaker you...</td>\n",
       "    </tr>\n",
       "    <tr>\n",
       "      <th>340429</th>\n",
       "      <td>se qualcuno che non conosce il tuo background ...</td>\n",
       "      <td>if someone who does not know your background s...</td>\n",
       "    </tr>\n",
       "    <tr>\n",
       "      <th>340430</th>\n",
       "      <td>senza dubbio esiste in questo mondo proprio la...</td>\n",
       "      <td>doubtless there exists in this world precisely...</td>\n",
       "    </tr>\n",
       "    <tr>\n",
       "      <th>340431</th>\n",
       "      <td>senza dubbio esiste in questo mondo proprio la...</td>\n",
       "      <td>doubtless there exists in this world precisely...</td>\n",
       "    </tr>\n",
       "  </tbody>\n",
       "</table>\n",
       "</div>"
      ],
      "text/plain": [
       "                                                  Italian  \\\n",
       "340427  se vuoi sembrare un madrelingua devi essere di...   \n",
       "340428  se vuoi sembrare un madrelingua devi essere di...   \n",
       "340429  se qualcuno che non conosce il tuo background ...   \n",
       "340430  senza dubbio esiste in questo mondo proprio la...   \n",
       "340431  senza dubbio esiste in questo mondo proprio la...   \n",
       "\n",
       "                                                  English  \n",
       "340427  if you want to sound like a native speaker you...  \n",
       "340428  if you want to sound like a native speaker you...  \n",
       "340429  if someone who does not know your background s...  \n",
       "340430  doubtless there exists in this world precisely...  \n",
       "340431  doubtless there exists in this world precisely...  "
      ]
     },
     "execution_count": 7,
     "metadata": {},
     "output_type": "execute_result"
    }
   ],
   "source": [
    "dataset.tail()"
   ]
  },
  {
   "cell_type": "code",
   "execution_count": 8,
   "metadata": {},
   "outputs": [
    {
     "data": {
      "text/plain": [
       "(340432, 2)"
      ]
     },
     "execution_count": 8,
     "metadata": {},
     "output_type": "execute_result"
    }
   ],
   "source": [
    "dataset.shape"
   ]
  },
  {
   "cell_type": "markdown",
   "metadata": {},
   "source": [
    "# EDA"
   ]
  },
  {
   "cell_type": "code",
   "execution_count": 9,
   "metadata": {},
   "outputs": [
    {
     "data": {
      "text/plain": [
       "(337561, 2)"
      ]
     },
     "execution_count": 9,
     "metadata": {},
     "output_type": "execute_result"
    }
   ],
   "source": [
    "# dropping duplicates\n",
    "dataset = dataset.drop_duplicates(ignore_index=True)\n",
    "dataset.shape"
   ]
  },
  {
   "cell_type": "code",
   "execution_count": 10,
   "metadata": {},
   "outputs": [],
   "source": [
    "def eda(data, diagram=True):\n",
    "    english = data['English'].values\n",
    "    italian = data['Italian'].values\n",
    "    \n",
    "    eng_lengths = []\n",
    "    ita_lengths = []\n",
    "    for line in english:\n",
    "        eng_lengths.append(len(line.split()))\n",
    "    for line in italian:\n",
    "        ita_lengths.append(len(line.split()))\n",
    "    if diagram == True:\n",
    "        plt.figure(figsize=(10,5))\n",
    "        plt.subplot(121)\n",
    "        plt.xlabel('Total Sentences')\n",
    "        plt.ylabel('Length of each Sentence')\n",
    "        sns.scatterplot(range(len(english)), eng_lengths)\n",
    "        plt.subplot(122)\n",
    "        plt.xlabel('Total Sentences')\n",
    "        plt.ylabel('Length of each Sentence')\n",
    "        sns.scatterplot(range(len(italian)), ita_lengths)\n",
    "    \n",
    "    print(\"Max Length of sentences in English: \", max(eng_lengths))\n",
    "    print(\"Max Length of sentences in Italian: \", max(ita_lengths))\n",
    "    \n",
    "    return eng_lengths,ita_lengths"
   ]
  },
  {
   "cell_type": "code",
   "execution_count": 11,
   "metadata": {},
   "outputs": [
    {
     "name": "stdout",
     "output_type": "stream",
     "text": [
      "Max Length of sentences in English:  101\n",
      "Max Length of sentences in Italian:  92\n"
     ]
    },
    {
     "data": {
      "image/png": "[encoded data removed]",
      "text/plain": [
       "<Figure size 720x360 with 2 Axes>"
      ]
     },
     "metadata": {
      "needs_background": "light"
     },
     "output_type": "display_data"
    }
   ],
   "source": [
    "eng_lengths, ita_lengths = eda(dataset)"
   ]
  },
  {
   "cell_type": "markdown",
   "metadata": {},
   "source": [
    "The length which is the maximum among the english and italian sentences are 101 and 92 respectively, but there is only one datapoint which has that length and the rest of the sentences do not have such a large length. Therefore we can drop that data point from the dataset and work with the rest."
   ]
  },
  {
   "cell_type": "code",
   "execution_count": 12,
   "metadata": {},
   "outputs": [
    {
     "data": {
      "text/plain": [
       "(337559, 337559)"
      ]
     },
     "execution_count": 12,
     "metadata": {},
     "output_type": "execute_result"
    }
   ],
   "source": [
    "np.argmax(eng_lengths), np.argmax(ita_lengths)"
   ]
  },
  {
   "cell_type": "code",
   "execution_count": 13,
   "metadata": {},
   "outputs": [
    {
     "data": {
      "text/html": [
       "<div>\n",
       "<style scoped>\n",
       "    .dataframe tbody tr th:only-of-type {\n",
       "        vertical-align: middle;\n",
       "    }\n",
       "\n",
       "    .dataframe tbody tr th {\n",
       "        vertical-align: top;\n",
       "    }\n",
       "\n",
       "    .dataframe thead th {\n",
       "        text-align: right;\n",
       "    }\n",
       "</style>\n",
       "<table border=\"1\" class=\"dataframe\">\n",
       "  <thead>\n",
       "    <tr style=\"text-align: right;\">\n",
       "      <th></th>\n",
       "      <th>Italian</th>\n",
       "      <th>English</th>\n",
       "    </tr>\n",
       "  </thead>\n",
       "  <tbody>\n",
       "    <tr>\n",
       "      <th>337556</th>\n",
       "      <td>se vuoi sembrare un madrelingua devi essere di...</td>\n",
       "      <td>if you want to sound like a native speaker you...</td>\n",
       "    </tr>\n",
       "    <tr>\n",
       "      <th>337557</th>\n",
       "      <td>se vuoi sembrare un madrelingua devi essere di...</td>\n",
       "      <td>if you want to sound like a native speaker you...</td>\n",
       "    </tr>\n",
       "    <tr>\n",
       "      <th>337558</th>\n",
       "      <td>se qualcuno che non conosce il tuo background ...</td>\n",
       "      <td>if someone who does not know your background s...</td>\n",
       "    </tr>\n",
       "    <tr>\n",
       "      <th>337559</th>\n",
       "      <td>senza dubbio esiste in questo mondo proprio la...</td>\n",
       "      <td>doubtless there exists in this world precisely...</td>\n",
       "    </tr>\n",
       "    <tr>\n",
       "      <th>337560</th>\n",
       "      <td>senza dubbio esiste in questo mondo proprio la...</td>\n",
       "      <td>doubtless there exists in this world precisely...</td>\n",
       "    </tr>\n",
       "  </tbody>\n",
       "</table>\n",
       "</div>"
      ],
      "text/plain": [
       "                                                  Italian  \\\n",
       "337556  se vuoi sembrare un madrelingua devi essere di...   \n",
       "337557  se vuoi sembrare un madrelingua devi essere di...   \n",
       "337558  se qualcuno che non conosce il tuo background ...   \n",
       "337559  senza dubbio esiste in questo mondo proprio la...   \n",
       "337560  senza dubbio esiste in questo mondo proprio la...   \n",
       "\n",
       "                                                  English  \n",
       "337556  if you want to sound like a native speaker you...  \n",
       "337557  if you want to sound like a native speaker you...  \n",
       "337558  if someone who does not know your background s...  \n",
       "337559  doubtless there exists in this world precisely...  \n",
       "337560  doubtless there exists in this world precisely...  "
      ]
     },
     "execution_count": 13,
     "metadata": {},
     "output_type": "execute_result"
    }
   ],
   "source": [
    "dataset.tail()"
   ]
  },
  {
   "cell_type": "code",
   "execution_count": 14,
   "metadata": {},
   "outputs": [],
   "source": [
    "dataset = dataset.iloc[:-2]"
   ]
  },
  {
   "cell_type": "code",
   "execution_count": 15,
   "metadata": {},
   "outputs": [
    {
     "name": "stdout",
     "output_type": "stream",
     "text": [
      "Max Length of sentences in English:  47\n",
      "Max Length of sentences in Italian:  49\n"
     ]
    },
    {
     "data": {
      "image/png": "[encoded data removed]",
      "text/plain": [
       "<Figure size 720x360 with 2 Axes>"
      ]
     },
     "metadata": {
      "needs_background": "light"
     },
     "output_type": "display_data"
    }
   ],
   "source": [
    "eng_lengths, ita_lengths = eda(dataset, True)"
   ]
  },
  {
   "cell_type": "code",
   "execution_count": 31,
   "metadata": {},
   "outputs": [],
   "source": [
    "enc_inp_length = 47\n",
    "dec_inp_length = 49"
   ]
  },
  {
   "cell_type": "code",
   "execution_count": 17,
   "metadata": {},
   "outputs": [
    {
     "data": {
      "text/plain": [
       "<AxesSubplot:title={'center':'Difference in Length of sentences'}, xlabel='Number of Sentences', ylabel='Difference'>"
      ]
     },
     "execution_count": 17,
     "metadata": {},
     "output_type": "execute_result"
    },
    {
     "data": {
      "image/png": "[encoded data removed]",
      "text/plain": [
       "<Figure size 432x288 with 1 Axes>"
      ]
     },
     "metadata": {
      "needs_background": "light"
     },
     "output_type": "display_data"
    }
   ],
   "source": [
    "diff_in_lengths = np.array(eng_lengths) - np.array(ita_lengths)\n",
    "plt.title('Difference in Length of sentences')\n",
    "plt.ylabel('Difference')\n",
    "plt.xlabel('Number of Sentences')\n",
    "sns.scatterplot(range(len(eng_lengths)), diff_in_lengths)"
   ]
  },
  {
   "cell_type": "markdown",
   "metadata": {},
   "source": [
    "Sometimes English sentences tend to be longer whereas sometimes Italian sentences tend to be longer. There is no such theory that one language will always have longer sentences."
   ]
  },
  {
   "cell_type": "code",
   "execution_count": 18,
   "metadata": {},
   "outputs": [],
   "source": [
    "def modify(text):\n",
    "    a = 'startseq' + ' ' + text + ' ' + 'endseq'\n",
    "    return a"
   ]
  },
  {
   "cell_type": "code",
   "execution_count": 19,
   "metadata": {},
   "outputs": [],
   "source": [
    "#dataset['English'] = dataset['English'].apply(lambda x: modify(x))\n",
    "dataset['Italian'] = dataset['Italian'].apply(lambda x: modify(x))"
   ]
  },
  {
   "cell_type": "code",
   "execution_count": 20,
   "metadata": {},
   "outputs": [
    {
     "data": {
      "text/html": [
       "<div>\n",
       "<style scoped>\n",
       "    .dataframe tbody tr th:only-of-type {\n",
       "        vertical-align: middle;\n",
       "    }\n",
       "\n",
       "    .dataframe tbody tr th {\n",
       "        vertical-align: top;\n",
       "    }\n",
       "\n",
       "    .dataframe thead th {\n",
       "        text-align: right;\n",
       "    }\n",
       "</style>\n",
       "<table border=\"1\" class=\"dataframe\">\n",
       "  <thead>\n",
       "    <tr style=\"text-align: right;\">\n",
       "      <th></th>\n",
       "      <th>Italian</th>\n",
       "      <th>English</th>\n",
       "    </tr>\n",
       "  </thead>\n",
       "  <tbody>\n",
       "    <tr>\n",
       "      <th>0</th>\n",
       "      <td>startseq ciao endseq</td>\n",
       "      <td>hi</td>\n",
       "    </tr>\n",
       "    <tr>\n",
       "      <th>1</th>\n",
       "      <td>startseq corri endseq</td>\n",
       "      <td>run</td>\n",
       "    </tr>\n",
       "    <tr>\n",
       "      <th>2</th>\n",
       "      <td>startseq corra endseq</td>\n",
       "      <td>run</td>\n",
       "    </tr>\n",
       "    <tr>\n",
       "      <th>3</th>\n",
       "      <td>startseq correte endseq</td>\n",
       "      <td>run</td>\n",
       "    </tr>\n",
       "    <tr>\n",
       "      <th>4</th>\n",
       "      <td>startseq chi endseq</td>\n",
       "      <td>who</td>\n",
       "    </tr>\n",
       "  </tbody>\n",
       "</table>\n",
       "</div>"
      ],
      "text/plain": [
       "                   Italian English\n",
       "0     startseq ciao endseq      hi\n",
       "1    startseq corri endseq     run\n",
       "2    startseq corra endseq     run\n",
       "3  startseq correte endseq     run\n",
       "4      startseq chi endseq     who"
      ]
     },
     "execution_count": 20,
     "metadata": {},
     "output_type": "execute_result"
    }
   ],
   "source": [
    "dataset.head()"
   ]
  },
  {
   "cell_type": "markdown",
   "metadata": {},
   "source": [
    "# Preprocesing"
   ]
  },
  {
   "cell_type": "code",
   "execution_count": 21,
   "metadata": {},
   "outputs": [],
   "source": [
    "X_train, X_test, y_train, y_test = train_test_split(dataset['English'], dataset['Italian'], test_size = 0.2, \n",
    "                                                           random_state=141)"
   ]
  },
  {
   "cell_type": "code",
   "execution_count": 27,
   "metadata": {},
   "outputs": [],
   "source": [
    "X_train, X_cv, y_train, y_cv = train_test_split(dataset['English'], dataset['Italian'], test_size=0.1, \n",
    "                                                   random_state =23)\n",
    "X_train, X_test, y_train, y_test = train_test_split(X_train, y_train, test_size=0.05, \n",
    "                                                   random_state =23)"
   ]
  },
  {
   "cell_type": "code",
   "execution_count": 28,
   "metadata": {},
   "outputs": [
    {
     "data": {
      "text/plain": [
       "((288612,), (15191,), (33756,))"
      ]
     },
     "execution_count": 28,
     "metadata": {},
     "output_type": "execute_result"
    }
   ],
   "source": [
    "X_train.shape, X_test.shape, X_cv.shape"
   ]
  },
  {
   "cell_type": "code",
   "execution_count": 29,
   "metadata": {},
   "outputs": [],
   "source": [
    "eng_tokenizer = Tokenizer()\n",
    "eng_tokenizer.fit_on_texts(X_train)\n",
    "\n",
    "X_train_tok = eng_tokenizer.texts_to_sequences(X_train)\n",
    "X_cv_tok = ita_tokenizer.texts_to_sequences(X_cv)\n",
    "X_test_tok = eng_tokenizer.texts_to_sequences(X_test)"
   ]
  },
  {
   "cell_type": "code",
   "execution_count": 30,
   "metadata": {},
   "outputs": [],
   "source": [
    "ita_tokenizer = Tokenizer()\n",
    "ita_tokenizer.fit_on_texts(y_train)\n",
    "\n",
    "y_train_tok = ita_tokenizer.texts_to_sequences(y_train)\n",
    "y_cv_tok = ita_tokenizer.texts_to_sequences(y_cv)\n",
    "y_test_tok = ita_tokenizer.texts_to_sequences(y_test)"
   ]
  },
  {
   "cell_type": "code",
   "execution_count": 32,
   "metadata": {},
   "outputs": [],
   "source": [
    "y_train_pad = pad_sequences(y_train_tok, maxlen = dec_inp_length, padding='post')\n",
    "y_test_pad = pad_sequences(y_test_tok, maxlen = dec_inp_length, padding='post')\n",
    "y_cv_pad = pad_sequences(y_cv_tok, maxlen = dec_inp_length, padding='post')\n",
    "\n",
    "X_train_pad = pad_sequences(X_train_tok, maxlen = enc_inp_length, padding='post')\n",
    "X_test_pad = pad_sequences(X_test_tok, maxlen = enc_inp_length, padding='post')\n",
    "X_cv_pad = pad_sequences(X_cv_tok, maxlen = enc_inp_length, padding='post')"
   ]
  },
  {
   "cell_type": "code",
   "execution_count": 33,
   "metadata": {},
   "outputs": [
    {
     "data": {
      "text/plain": [
       "((288612, 47), (288612, 49), (15191, 47), (15191, 49))"
      ]
     },
     "execution_count": 33,
     "metadata": {},
     "output_type": "execute_result"
    }
   ],
   "source": [
    "X_train_pad.shape, y_train_pad.shape, X_test_pad.shape, y_test_pad.shape"
   ]
  },
  {
   "cell_type": "code",
   "execution_count": 34,
   "metadata": {},
   "outputs": [],
   "source": [
    "#x_vocab = 15001\n",
    "#y_vocab = 12500\n",
    "\n",
    "x_vocab = len(eng_tokenizer.word_index.keys()) + 1\n",
    "y_vocab = len(ita_tokenizer.word_index.keys()) + 1"
   ]
  },
  {
   "cell_type": "code",
   "execution_count": 215,
   "metadata": {},
   "outputs": [
    {
     "data": {
      "text/plain": [
       "(12799, 26515)"
      ]
     },
     "execution_count": 215,
     "metadata": {},
     "output_type": "execute_result"
    }
   ],
   "source": [
    "x_vocab, y_vocab"
   ]
  },
  {
   "cell_type": "code",
   "execution_count": 35,
   "metadata": {},
   "outputs": [],
   "source": [
    "emb_dim = 64\n",
    "dec_units = 128\n",
    "enc_units = 128\n",
    "att_units = 10"
   ]
  },
  {
   "cell_type": "code",
   "execution_count": 98,
   "metadata": {},
   "outputs": [],
   "source": [
    "import pickle"
   ]
  },
  {
   "cell_type": "code",
   "execution_count": 99,
   "metadata": {},
   "outputs": [],
   "source": [
    "f = open('GLOVE_VECTORS.pickle','rb')\n",
    "glove_vector = pickle.load(f)\n",
    "f.close()"
   ]
  },
  {
   "cell_type": "code",
   "execution_count": 100,
   "metadata": {},
   "outputs": [],
   "source": [
    "#vocab_size = len(eng_tokenizer.word_index.keys()) + 1\n",
    "embedding_matrix = np.zeros((x_vocab,300))\n",
    "for word, i in eng_tokenizer.word_index.items():\n",
    "    if word in glove_vector.keys():\n",
    "        vec = glove_vector[word]\n",
    "        embedding_matrix[i] = vec\n",
    "    else:\n",
    "        continue"
   ]
  },
  {
   "cell_type": "markdown",
   "metadata": {},
   "source": [
    "# Model 1 - Concat"
   ]
  },
  {
   "cell_type": "code",
   "execution_count": 135,
   "metadata": {},
   "outputs": [],
   "source": [
    "class Encoder(tf.keras.layers.Layer):\n",
    "    def __init__(self, vocab_size, embedding_dim, input_length, enc_units):\n",
    "        super(Encoder, self).__init__()\n",
    "        self.vocab_size = vocab_size\n",
    "        self.embedding_dim = embedding_dim\n",
    "        self.input_length = input_length\n",
    "        self.enc_units= enc_units\n",
    "        self.gru_output = 0\n",
    "        self.state_h=0\n",
    "        \n",
    "    def build(self, input_shape):\n",
    "        self.embedding = Embedding(input_dim=self.vocab_size, output_dim=64, input_length=self.input_length,\n",
    "                                   mask_zero=True, name=\"embedding_layer_encoder\")\n",
    "        self.gru = GRU(self.enc_units, return_state=True, return_sequences=True, name=\"Encoder_GRU\")\n",
    "        \n",
    "    def call(self, input_sentences, training=True):\n",
    "        \n",
    "        input_embed = self.embedding(input_sentences)\n",
    "        \n",
    "        self.gru_output, self.gru_state_h = self.gru(input_embed)\n",
    "        \n",
    "        return self.gru_output, self.gru_state_h\n",
    "    \n",
    "    def get_states(self):\n",
    "        \n",
    "        return self.state_h"
   ]
  },
  {
   "cell_type": "code",
   "execution_count": 136,
   "metadata": {},
   "outputs": [],
   "source": [
    "class OneStepDecoder(tf.keras.layers.Layer):\n",
    "    def __init__(self, vocab_size, emb_dim, att_units, dec_units):\n",
    "        super(OneStepDecoder, self).__init__()\n",
    "        self.vocab_size = vocab_size\n",
    "        self.emb_dim = emb_dim\n",
    "        self.att_units = att_units\n",
    "        self.dec_units = dec_units\n",
    "        \n",
    "    def build(self, input_shape):\n",
    "        self.embedding = Embedding(input_dim=self.vocab_size, output_dim=64, input_length=49, mask_zero=True,\n",
    "                                   name=\"embedding_layer_decoder\")\n",
    "        self.gru = GRU(self.dec_units, return_sequences=True, return_state=True, name=\"Decoder_GRU\")\n",
    "        self.fc = Dense(self.vocab_size)\n",
    "        \n",
    "        self.V = Dense(1)\n",
    "        self.W = Dense(self.att_units)\n",
    "        self.U = Dense(self.att_units)\n",
    "        \n",
    "    def call(self, dec_input, hidden_state, enc_output):\n",
    "\n",
    "        hidden_with_time = tf.expand_dims(hidden_state, 1)\n",
    "       \n",
    "        attention_weights = self.V(tf.nn.tanh(self.U(enc_output) + self.W(hidden_with_time)))\n",
    "        \n",
    "        attention_weights = tf.nn.softmax(attention_weights, 1)\n",
    "        \n",
    "        context_vector = attention_weights * enc_output\n",
    "        \n",
    "        context_vector = tf.reduce_sum(context_vector, axis=1)\n",
    "        \n",
    "\n",
    "        x = self.embedding(dec_input)\n",
    "        x = tf.concat([tf.expand_dims(context_vector, axis=1),x], axis=-1)\n",
    "        output, h_state = self.gru(x, initial_state = hidden_state)\n",
    "        \n",
    "        output = tf.reshape(output, (-1, output.shape[2]))\n",
    "        \n",
    "        x = self.fc(output)\n",
    "        \n",
    "        return x, h_state, attention_weights"
   ]
  },
  {
   "cell_type": "code",
   "execution_count": 137,
   "metadata": {},
   "outputs": [],
   "source": [
    "class Decoder(tf.keras.layers.Layer):\n",
    "    \n",
    "    def __init__(self, embedding_dim, vocab_size, input_length, dec_units, att_units):\n",
    "        super(Decoder, self).__init__()\n",
    "        self.vocab_size = vocab_size\n",
    "        self.embedding_dim = embedding_dim\n",
    "        self.input_length = input_length\n",
    "        self.dec_units = dec_units\n",
    "        self.att_units = att_units\n",
    "        self.onestep_decoder = OneStepDecoder(self.vocab_size, self.embedding_dim, self.att_units, self.dec_units)\n",
    "    @tf.function    \n",
    "    def call(self, dec_input, hidden_state, enc_output):\n",
    "        all_outputs = tf.TensorArray(tf.float32, dec_input.shape[1], name='output_arrays')\n",
    "        \n",
    "        for timestep in range(dec_input.shape[1]):\n",
    "            \n",
    "            output, hidden_state, attention_weights = self.onestep_decoder(dec_input[:, timestep:timestep+1], \n",
    "                                                                           hidden_state, enc_output)\n",
    "            \n",
    "            all_outputs = all_outputs.write(timestep, output)\n",
    "            \n",
    "        all_outputs = tf.transpose(all_outputs.stack(), [1,0,2])\n",
    "        return all_outputs"
   ]
  },
  {
   "cell_type": "code",
   "execution_count": 138,
   "metadata": {},
   "outputs": [],
   "source": [
    "class Attention_Model(tf.keras.Model):\n",
    "    def __init__(self, embedding_dim, x_vocab, y_vocab, dec_units, enc_units, enc_inp_length, dec_inp_length, att_units):\n",
    "        super(Attention_Model, self).__init__()\n",
    "        self.encoder = Encoder(x_vocab, embedding_dim, enc_inp_length, enc_units)\n",
    "        self.decoder = Decoder(embedding_dim, y_vocab, dec_inp_length,dec_units, att_units)\n",
    "        \n",
    "    def call(self, data):\n",
    "        enc_input, dec_input = data[0], data[1]\n",
    "    \n",
    "        enc_output, enc_state = self.encoder(enc_input)\n",
    "    \n",
    "        dec_output = self.decoder(dec_input, enc_state, enc_output)\n",
    "\n",
    "        return dec_output"
   ]
  },
  {
   "cell_type": "code",
   "execution_count": 139,
   "metadata": {},
   "outputs": [],
   "source": [
    "model1 = Attention_Model(emb_dim, x_vocab, y_vocab, dec_units, enc_units, enc_inp_length, dec_inp_length, att_units)"
   ]
  },
  {
   "cell_type": "code",
   "execution_count": 140,
   "metadata": {},
   "outputs": [],
   "source": [
    "optimizer = tf.keras.optimizers.Adam(learning_rate=0.001)\n",
    "loss_function = tf.keras.losses.SparseCategoricalCrossentropy(from_logits=True, reduction='auto')\n",
    "\n",
    "def maskedLoss(y_true, y_pred):\n",
    "    #getting mask value\n",
    "    mask = tf.math.logical_not(tf.math.equal(y_true, 0))\n",
    "    \n",
    "    #calculating the loss\n",
    "    loss_ = loss_function(y_true, y_pred)\n",
    "    \n",
    "    #converting mask dtype to loss_ dtype\n",
    "    mask = tf.cast(mask, dtype=loss_.dtype)\n",
    "    \n",
    "    #applying the mask to loss\n",
    "    loss_ = loss_*mask\n",
    "    \n",
    "    #getting mean over all the values\n",
    "    loss_ = tf.reduce_mean(loss_)\n",
    "    return loss_"
   ]
  },
  {
   "cell_type": "code",
   "execution_count": 141,
   "metadata": {},
   "outputs": [],
   "source": [
    "model1.compile(optimizer=optimizer, loss=maskedLoss)"
   ]
  },
  {
   "cell_type": "code",
   "execution_count": 142,
   "metadata": {},
   "outputs": [],
   "source": [
    "log_dir=\"Eng_Ita\\Tensorboard\\logs_m2\\\\fit1\\\\\" + datetime.datetime.now().strftime(\"%Y%m%d-%H%M%S\")\n",
    "tensorboard_callback = tf.keras.callbacks.TensorBoard(log_dir=log_dir,histogram_freq=1, write_graph=True)\n",
    "\n",
    "checkpoint = tf.keras.callbacks.ModelCheckpoint('Eng_Ita/Weights/model_log_m2_fit1_{epoch:02d}.h5',\n",
    "                                                save_weights_only=True)"
   ]
  },
  {
   "cell_type": "code",
   "execution_count": 47,
   "metadata": {},
   "outputs": [
    {
     "name": "stdout",
     "output_type": "stream",
     "text": [
      "Train on 288612 samples, validate on 15191 samples\n",
      "Epoch 1/10\n",
      "288612/288612 [==============================] - 2000s 7ms/sample - loss: 0.0688 - val_loss: 0.0391\n",
      "Epoch 2/10\n",
      "288612/288612 [==============================] - 1948s 7ms/sample - loss: 0.0301 - val_loss: 0.0246\n",
      "Epoch 3/10\n",
      "288612/288612 [==============================] - 1982s 7ms/sample - loss: 0.0204 - val_loss: 0.0199\n",
      "Epoch 4/10\n",
      "288612/288612 [==============================] - 1938s 7ms/sample - loss: 0.0163 - val_loss: 0.0179\n",
      "Epoch 5/10\n",
      "288612/288612 [==============================] - 1956s 7ms/sample - loss: 0.0139 - val_loss: 0.0167\n",
      "Epoch 6/10\n",
      "288612/288612 [==============================] - 1937s 7ms/sample - loss: 0.0124 - val_loss: 0.0160\n",
      "Epoch 7/10\n",
      "288612/288612 [==============================] - 1939s 7ms/sample - loss: 0.0113 - val_loss: 0.0155\n",
      "Epoch 8/10\n",
      "288612/288612 [==============================] - 1940s 7ms/sample - loss: 0.0106 - val_loss: 0.0152\n",
      "Epoch 9/10\n",
      "288612/288612 [==============================] - 1939s 7ms/sample - loss: 0.0099 - val_loss: 0.0150\n",
      "Epoch 10/10\n",
      "288612/288612 [==============================] - 1939s 7ms/sample - loss: 0.0094 - val_loss: 0.0150\n"
     ]
    },
    {
     "data": {
      "text/plain": [
       "<tensorflow.python.keras.callbacks.History at 0x1a0c1626b88>"
      ]
     },
     "execution_count": 47,
     "metadata": {},
     "output_type": "execute_result"
    }
   ],
   "source": [
    "model1.fit([X_train_pad, y_train_pad[:,:-1]], y_train_pad[:,1:], \n",
    "           validation_data=([X_test_pad, y_test_pad[:,:-1]], y_test_pad[:,1:]),\n",
    "           epochs=10, callbacks=[tensorboard_callback, checkpoint])"
   ]
  },
  {
   "cell_type": "code",
   "execution_count": 178,
   "metadata": {},
   "outputs": [],
   "source": [
    "#model1.save_weights('Eng_Ita/Weights/model_log_m1_fit2_10.h5')"
   ]
  },
  {
   "cell_type": "code",
   "execution_count": 179,
   "metadata": {},
   "outputs": [],
   "source": [
    "def inference_concat(inputs):\n",
    "    \n",
    "    in_ = len(inputs.split()) - 1\n",
    "    #print(in_)\n",
    "    inputs = [inputs]\n",
    "    inputs = np.array(eng_tokenizer.texts_to_sequences(inputs))\n",
    "    inputs = pad_sequences(inputs, enc_inp_length, padding='post')\n",
    "    #print('padding: ', inputs.shape)\n",
    "    enc_output, enc_state = model1.layers[0](inputs)\n",
    "    input_state = enc_state\n",
    "    pred = []\n",
    "    cur_vec = np.array([ita_tokenizer.word_index['startseq']]).reshape(-1,1)\n",
    "    att_weights = np.zeros((in_, dec_inp_length))\n",
    "    for i in range(49):\n",
    "\n",
    "        inf_output, input_state, attention_weights = model1.layers[1].onestep_decoder(cur_vec, input_state, enc_output)\n",
    "        #print(attention_weights[0][:,0].shape)\n",
    "        cur_vec = np.reshape(np.argmax(inf_output), (1, 1))\n",
    "        if cur_vec[0][0] != 0:\n",
    "            pred.append(cur_vec)\n",
    "            att_weights[:,i] = attention_weights[0][:in_,0]\n",
    "        else:\n",
    "            break\n",
    "    att_weights = att_weights[:,:len(pred)]\n",
    "    final = ' '.join([ita_tokenizer.index_word[e[0][0]] for e in pred if e[0][0] != 0 and e[0][0] != 2])\n",
    "    return final, att_weights"
   ]
  },
  {
   "cell_type": "markdown",
   "metadata": {},
   "source": [
    "## Example 1"
   ]
  },
  {
   "cell_type": "code",
   "execution_count": 180,
   "metadata": {},
   "outputs": [
    {
     "name": "stdout",
     "output_type": "stream",
     "text": [
      "english Sentence:  i polished my shoes\n"
     ]
    }
   ],
   "source": [
    "print('english Sentence: ', X_test.iloc[576])"
   ]
  },
  {
   "cell_type": "code",
   "execution_count": 181,
   "metadata": {},
   "outputs": [],
   "source": [
    "pred, att_weights = inference_concat(X_test.values[576])"
   ]
  },
  {
   "cell_type": "code",
   "execution_count": 182,
   "metadata": {},
   "outputs": [
    {
     "name": "stdout",
     "output_type": "stream",
     "text": [
      "Predicted:  mi sono sempre lavata i denti\n",
      "Original:  startseq ho lucidato le mie scarpe endseq\n"
     ]
    }
   ],
   "source": [
    "print('Predicted: ',pred)\n",
    "print('Original: ', y_test.values[576])"
   ]
  },
  {
   "cell_type": "code",
   "execution_count": 157,
   "metadata": {},
   "outputs": [
    {
     "data": {
      "text/plain": [
       "<AxesSubplot:>"
      ]
     },
     "execution_count": 157,
     "metadata": {},
     "output_type": "execute_result"
    },
    {
     "data": {
      "image/png": "[encoded data removed]",
      "text/plain": [
       "<Figure size 432x288 with 2 Axes>"
      ]
     },
     "metadata": {
      "needs_background": "light"
     },
     "output_type": "display_data"
    }
   ],
   "source": [
    "sns.heatmap(att_weights, cmap='Reds', xticklabels=pred.split(), yticklabels=X_test.values[576].split())"
   ]
  },
  {
   "cell_type": "markdown",
   "metadata": {},
   "source": [
    "The inference function returns the sentence without the last 'endseq' token. That is the reason the last unit do not contain a word."
   ]
  },
  {
   "cell_type": "markdown",
   "metadata": {},
   "source": [
    "## Example 2"
   ]
  },
  {
   "cell_type": "code",
   "execution_count": 184,
   "metadata": {},
   "outputs": [
    {
     "name": "stdout",
     "output_type": "stream",
     "text": [
      "English Sentence:  why are not you wearing your gloves\n"
     ]
    }
   ],
   "source": [
    "print('English Sentence: ', X_test.iloc[316])"
   ]
  },
  {
   "cell_type": "code",
   "execution_count": 185,
   "metadata": {},
   "outputs": [],
   "source": [
    "pred1, att_weights1 = inference_concat(X_test.values[316])"
   ]
  },
  {
   "cell_type": "code",
   "execution_count": 186,
   "metadata": {},
   "outputs": [
    {
     "name": "stdout",
     "output_type": "stream",
     "text": [
      "Predicted:  perché non stai indossando i suoi guanti \n",
      "\n",
      "Original:  startseq perché non sta indossando i suoi guanti endseq\n"
     ]
    }
   ],
   "source": [
    "print('Predicted: ',pred1, '\\n')\n",
    "print('Original: ', y_test.values[316])"
   ]
  },
  {
   "cell_type": "code",
   "execution_count": 118,
   "metadata": {},
   "outputs": [
    {
     "name": "stdout",
     "output_type": "stream",
     "text": [
      "Predicted:  perché non stai indossando le sue guanti \n",
      "\n",
      "Original:  startseq perché non sta indossando i suoi guanti endseq\n"
     ]
    }
   ],
   "source": [
    "# emb\n",
    "print('Predicted: ',pred1, '\\n')\n",
    "print('Original: ', y_test.values[316])"
   ]
  },
  {
   "cell_type": "code",
   "execution_count": 64,
   "metadata": {},
   "outputs": [
    {
     "name": "stdout",
     "output_type": "stream",
     "text": [
      "Predicted:  perché non stai indossando i vostri guanti \n",
      "\n",
      "Original:  startseq perché non sta indossando i suoi guanti endseq\n"
     ]
    }
   ],
   "source": [
    "print('Predicted: ',pred1, '\\n')\n",
    "print('Original: ', y_test.values[316])"
   ]
  },
  {
   "cell_type": "code",
   "execution_count": 187,
   "metadata": {
    "scrolled": false
   },
   "outputs": [
    {
     "data": {
      "text/plain": [
       "<AxesSubplot:>"
      ]
     },
     "execution_count": 187,
     "metadata": {},
     "output_type": "execute_result"
    },
    {
     "data": {
      "image/png": "[encoded data removed]",
      "text/plain": [
       "<Figure size 1080x504 with 2 Axes>"
      ]
     },
     "metadata": {
      "needs_background": "light"
     },
     "output_type": "display_data"
    }
   ],
   "source": [
    "plt.figure(figsize=(15,7))\n",
    "sns.heatmap(att_weights1, cmap='Reds', xticklabels=pred1.split(), yticklabels=X_test.values[316].split())"
   ]
  },
  {
   "cell_type": "markdown",
   "metadata": {},
   "source": [
    "# Example 3"
   ]
  },
  {
   "cell_type": "code",
   "execution_count": 191,
   "metadata": {},
   "outputs": [
    {
     "name": "stdout",
     "output_type": "stream",
     "text": [
      "english Sentence:  i am not mad at tom anymore\n"
     ]
    }
   ],
   "source": [
    "print('english Sentence: ', X_test.iloc[1235])"
   ]
  },
  {
   "cell_type": "code",
   "execution_count": 192,
   "metadata": {},
   "outputs": [],
   "source": [
    "pred, att_weights = inference_concat(X_test.values[1235])"
   ]
  },
  {
   "cell_type": "code",
   "execution_count": 193,
   "metadata": {},
   "outputs": [
    {
     "name": "stdout",
     "output_type": "stream",
     "text": [
      "Predicted:  io non sono più arrabbiato con tom\n",
      "Original:  startseq non sono più arrabbiata con tom endseq\n"
     ]
    }
   ],
   "source": [
    "print('Predicted: ',pred)\n",
    "print('Original: ', y_test.values[1235])"
   ]
  },
  {
   "cell_type": "code",
   "execution_count": 195,
   "metadata": {},
   "outputs": [
    {
     "data": {
      "text/plain": [
       "<AxesSubplot:>"
      ]
     },
     "execution_count": 195,
     "metadata": {},
     "output_type": "execute_result"
    },
    {
     "data": {
      "image/png": "[encoded data removed]",
      "text/plain": [
       "<Figure size 432x288 with 2 Axes>"
      ]
     },
     "metadata": {
      "needs_background": "light"
     },
     "output_type": "display_data"
    }
   ],
   "source": [
    "sns.heatmap(att_weights, cmap='Reds', xticklabels=pred.split(), yticklabels=X_test.values[1235].split())"
   ]
  },
  {
   "cell_type": "markdown",
   "metadata": {},
   "source": [
    "# Example 4"
   ]
  },
  {
   "cell_type": "code",
   "execution_count": 204,
   "metadata": {},
   "outputs": [
    {
     "name": "stdout",
     "output_type": "stream",
     "text": [
      "english Sentence:  since there are usually multiple websites on any given topic i usually just click the back button when i arrive on any webpage that has popup advertising i just go to the next page found by google and hope for something less irritating\n"
     ]
    }
   ],
   "source": [
    "print('english Sentence: ', X_test.iloc[13298])"
   ]
  },
  {
   "cell_type": "code",
   "execution_count": 205,
   "metadata": {},
   "outputs": [],
   "source": [
    "pred, att_weights = inference_concat(X_test.values[13298])"
   ]
  },
  {
   "cell_type": "code",
   "execution_count": 206,
   "metadata": {},
   "outputs": [
    {
     "name": "stdout",
     "output_type": "stream",
     "text": [
      "Predicted:  dato che solitamente ci sono molti siti web su qualunque dato argomento di solito clicco sul pulsante indietro e basta quando arrivo su qualunque pagina web che ha della pubblicità a popup semplicemente vado sulla pagina successiva trovata da google e spero di trovare qualcosa di meno\n",
      "Original:  startseq dato che di solito ci sono molti siti web su qualsiasi dato argomento solitamente clicco sul pulsante indietro e basta quando arrivo su qualunque pagina web che ha della pubblicità a popup semplicemente vado sulla pagina successiva trovata da google e spero di trovare qualcosa di meno irritante endseq\n"
     ]
    }
   ],
   "source": [
    "print('Predicted: ',pred)\n",
    "print('Original: ', y_test.values[13298])"
   ]
  },
  {
   "cell_type": "code",
   "execution_count": 207,
   "metadata": {},
   "outputs": [
    {
     "data": {
      "text/plain": [
       "<AxesSubplot:>"
      ]
     },
     "execution_count": 207,
     "metadata": {},
     "output_type": "execute_result"
    },
    {
     "data": {
      "image/png": "[encoded data removed]",
      "text/plain": [
       "<Figure size 432x288 with 2 Axes>"
      ]
     },
     "metadata": {
      "needs_background": "light"
     },
     "output_type": "display_data"
    }
   ],
   "source": [
    "sns.heatmap(att_weights, cmap='Reds', xticklabels=pred.split(), yticklabels=X_test.values[13298].split())"
   ]
  },
  {
   "cell_type": "markdown",
   "metadata": {},
   "source": [
    "### ------------------------------------------------------------------------------"
   ]
  },
  {
   "cell_type": "code",
   "execution_count": 201,
   "metadata": {},
   "outputs": [],
   "source": [
    "temp = []\n",
    "for i in X_test.values:\n",
    "    temp.append(len(i.split()))"
   ]
  },
  {
   "cell_type": "code",
   "execution_count": 203,
   "metadata": {},
   "outputs": [
    {
     "data": {
      "text/plain": [
       "13298"
      ]
     },
     "execution_count": 203,
     "metadata": {},
     "output_type": "execute_result"
    }
   ],
   "source": [
    "np.argmax(temp)"
   ]
  },
  {
   "cell_type": "markdown",
   "metadata": {},
   "source": [
    "## BLEU Evaluation on 3000 number of data points"
   ]
  },
  {
   "cell_type": "code",
   "execution_count": 208,
   "metadata": {},
   "outputs": [],
   "source": [
    "def bleu(X_test, y_test):\n",
    "    bleu1 = []\n",
    "    bleu2 = []\n",
    "    bleu3 = []\n",
    "    bleu4 = []\n",
    "    for x, y in zip(X_test.values, y_test.values):\n",
    "\n",
    "        pred_y, attention_weights = inference_concat(x)\n",
    "        \n",
    "        y = ' '.join(e for e in y.split()[1:-1])  # removes the start and end token\n",
    "\n",
    "        bleu1.append(sentence_bleu([y.split()], pred_y.split(), weights = (1,0,0,0)))\n",
    "        bleu2.append(sentence_bleu([y.split()], pred_y.split(), weights = (0.5,0.5,0,0)))\n",
    "        bleu3.append(sentence_bleu([y.split()], pred_y.split(), weights = (0.33,0.33,0.33,0)))\n",
    "        bleu4.append(sentence_bleu([y.split()], pred_y.split(), weights = (0.25,0.25,0.25,0.25)))\n",
    "        \n",
    "    return bleu1, bleu2, bleu3, bleu4"
   ]
  },
  {
   "cell_type": "code",
   "execution_count": 209,
   "metadata": {},
   "outputs": [],
   "source": [
    "b1, b2, b3, b4 = bleu(X_test.iloc[:3000], y_test.iloc[:3000])"
   ]
  },
  {
   "cell_type": "code",
   "execution_count": 210,
   "metadata": {},
   "outputs": [
    {
     "name": "stdout",
     "output_type": "stream",
     "text": [
      "Bleu1 Score:  0.6436630341533273\n",
      "Bleu2 Score:  0.5224439090543285\n",
      "Bleu3 Score:  0.3913146896726426\n",
      "Bleu4 Score:  0.27410915259156676\n"
     ]
    }
   ],
   "source": [
    "# epoch 10\n",
    "print('Bleu1 Score: ', sum(b1)/3000)\n",
    "print('Bleu2 Score: ', sum(b2)/3000)\n",
    "print('Bleu3 Score: ', sum(b3)/3000)\n",
    "print('Bleu4 Score: ', sum(b4)/3000)"
   ]
  },
  {
   "cell_type": "code",
   "execution_count": 96,
   "metadata": {},
   "outputs": [
    {
     "name": "stdout",
     "output_type": "stream",
     "text": [
      "Bleu1 Score:  0.6736233417219999\n",
      "Bleu2 Score:  0.5555658502317086\n",
      "Bleu3 Score:  0.4230974308128043\n",
      "Bleu4 Score:  0.308340964229032\n"
     ]
    }
   ],
   "source": [
    "# epoch 8\n",
    "print('Bleu1 Score: ', sum(b1)/3000)\n",
    "print('Bleu2 Score: ', sum(b2)/3000)\n",
    "print('Bleu3 Score: ', sum(b3)/3000)\n",
    "print('Bleu4 Score: ', sum(b4)/3000)"
   ]
  },
  {
   "cell_type": "code",
   "execution_count": null,
   "metadata": {},
   "outputs": [],
   "source": []
  }
 ],
 "metadata": {
  "kernelspec": {
   "display_name": "Python [conda env:py3-TF2.0] *",
   "language": "python",
   "name": "conda-env-py3-TF2.0-py"
  },
  "language_info": {
   "codemirror_mode": {
    "name": "ipython",
    "version": 3
   },
   "file_extension": ".py",
   "mimetype": "text/x-python",
   "name": "python",
   "nbconvert_exporter": "python",
   "pygments_lexer": "ipython3",
   "version": "3.7.7"
  }
 },
 "nbformat": 4,
 "nbformat_minor": 4
}
